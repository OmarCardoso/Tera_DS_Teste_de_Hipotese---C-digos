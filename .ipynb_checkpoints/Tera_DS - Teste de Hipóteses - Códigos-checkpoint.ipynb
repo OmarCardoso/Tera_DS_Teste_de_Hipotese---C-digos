{
 "cells": [
  {
   "cell_type": "code",
   "execution_count": 1,
   "id": "7df9f510",
   "metadata": {},
   "outputs": [],
   "source": [
    "from random import gauss\n",
    "from statistics import mean, stdev\n",
    "import numpy as np\n",
    "import math "
   ]
  },
  {
   "cell_type": "markdown",
   "id": "19885e96",
   "metadata": {},
   "source": [
    "# Distribuição Amostral"
   ]
  },
  {
   "cell_type": "code",
   "execution_count": 2,
   "id": "c348ad8f",
   "metadata": {},
   "outputs": [],
   "source": [
    "# Suponha que a variável altura tenha distribuição normal com média 1.7 e desvio padrão 0.1\n",
    "média = 1.7 #média populacional\n",
    "sigma = 0.1 # #desvio padrão populacional (raiz da variância)\n",
    "\n",
    "# Vamos gerar uma amostra dessa distribuição de tamanho 100\n",
    "\n",
    "n = 100 #tamanho da amostra \n"
   ]
  },
  {
   "cell_type": "code",
   "execution_count": 3,
   "id": "36473406",
   "metadata": {
    "scrolled": true
   },
   "outputs": [
    {
     "name": "stdout",
     "output_type": "stream",
     "text": [
      "[1.8595678771292516, 1.7703487241772227, 1.57434201724654, 1.7203405528964841, 1.4794493798230741, 1.6310539270398632, 1.8050060016797773, 1.7826959919580085, 1.6812718797603756, 1.7916485057842986, 1.568968129768294, 1.5012705412317882, 1.6993760891972383, 1.7008090545497216, 1.7011121312953001, 1.5989282354931027, 1.8062945060837385, 1.5868513377124134, 1.843917705435351, 1.8651021312785065, 1.7443078497124218, 1.8187544449452684, 1.5113325346101047, 1.8231426440196923, 1.5816433099316551, 1.8000709404911273, 1.6930229666455194, 1.6219375148906459, 1.6143064232679802, 1.5424677259394584, 1.7503912779103288, 1.851853508259037, 1.8367945687587597, 1.6206551592392695, 1.654206740821638, 1.4600784666505058, 1.6828111627346227, 1.7247363369803446, 1.8087498321666309, 1.7507837503522194, 1.7292730760773427, 1.6433486623607616, 1.5332460489275423, 1.7690941171819605, 1.6041555281145674, 1.7041625346228044, 1.7347930996759868, 1.648599412907192, 1.6704314052532578, 1.7384926410479569, 1.5693633120992245, 1.707211338960179, 1.5479544330762702, 1.9182700998617905, 1.7152793953765513, 1.6973567990385585, 1.6250325899790554, 1.6993193439399825, 1.8401840041486093, 1.6945174145824973, 1.736318889069494, 1.6744827740390107, 1.4755171809906342, 1.6454172361951978, 1.8116797245628231, 1.6654167851188815, 1.7372725379641116, 1.7465449963683595, 1.8683109847014125, 1.4799291818713827, 1.6298345102599525, 1.6355370406570213, 1.8249632566860665, 1.638710590769988, 1.7607008778337303, 1.638452122780617, 1.7113674771955498, 1.8181399431095708, 1.5788592566823028, 1.913618885209345, 1.671327217283599, 1.7475340046005365, 1.7419379617087136, 1.7546373891126525, 1.7251898605753078, 1.5944843642545818, 1.7752581592336105, 1.611161540469261, 1.7424308005427327, 1.7710374816805488, 1.8873027396616935, 1.6184028110734334, 1.6379768071479004, 1.5978856028758845, 1.7936624085355133, 1.7027452160235803, 1.8235831544800283, 1.8637188003253238, 1.753787264108283, 1.7450060888307166]\n"
     ]
    }
   ],
   "source": [
    "# Gerando uma amostra de dados provenientes de uma normal com a média e desvio padrão estabelecidos no código acima.\n",
    "valores = [gauss(média, sigma) for i in range(0,n)] \n",
    "print(valores)"
   ]
  },
  {
   "cell_type": "code",
   "execution_count": 4,
   "id": "0e65cf4e",
   "metadata": {},
   "outputs": [
    {
     "data": {
      "text/plain": [
       "1.7020063105968903"
      ]
     },
     "execution_count": 4,
     "metadata": {},
     "output_type": "execute_result"
    }
   ],
   "source": [
    "mean(valores) #média amostral"
   ]
  },
  {
   "cell_type": "code",
   "execution_count": 5,
   "id": "0074730d",
   "metadata": {},
   "outputs": [
    {
     "data": {
      "text/plain": [
       "0.010968151574341063"
      ]
     },
     "execution_count": 5,
     "metadata": {},
     "output_type": "execute_result"
    }
   ],
   "source": [
    "np.var(valores) # variancia amostral "
   ]
  },
  {
   "cell_type": "code",
   "execution_count": 6,
   "id": "22ae39f7",
   "metadata": {},
   "outputs": [
    {
     "data": {
      "text/plain": [
       "0.01"
      ]
     },
     "execution_count": 6,
     "metadata": {},
     "output_type": "execute_result"
    }
   ],
   "source": [
    "sigma/np.sqrt(n) #Desvio padrão populacional/ raiz do tamanho da amostra = variancia amostral "
   ]
  },
  {
   "cell_type": "markdown",
   "id": "2d13b051",
   "metadata": {},
   "source": [
    "# Valor tabelado - Tabela Z "
   ]
  },
  {
   "cell_type": "code",
   "execution_count": 7,
   "id": "7b78b67c",
   "metadata": {},
   "outputs": [
    {
     "name": "stdout",
     "output_type": "stream",
     "text": [
      "1.959963984540054\n",
      "1.6448536269514722\n"
     ]
    }
   ],
   "source": [
    "import scipy.stats as st\n",
    "import numpy as np\n",
    "\n",
    "#stats.norm.ppf(1 - alpha) (use alpha = alpha/2 for two-sided)\n",
    "\n",
    "Confianca = 1 - (0.05/2) #Bilateral \n",
    "print(st.norm.ppf(Confianca)) # Valor Z - 95% de confiança, alpha = 0.05 \n",
    "\n",
    "Confianca = 1 - (0.05) #Unilateral (não divide por 2 ) \n",
    "print(st.norm.ppf(Confianca)) # Valor Z - 95% de confiança, alpha = 0.05 "
   ]
  },
  {
   "cell_type": "markdown",
   "id": "53ac18e2",
   "metadata": {},
   "source": [
    "# Intervalo de confiança Z "
   ]
  },
  {
   "cell_type": "markdown",
   "id": "e3eef13c",
   "metadata": {},
   "source": [
    "# Exemplo pacotes de café"
   ]
  },
  {
   "cell_type": "code",
   "execution_count": 8,
   "id": "4949b7e7",
   "metadata": {},
   "outputs": [
    {
     "name": "stdout",
     "output_type": "stream",
     "text": [
      "O tamanho da amostra é de:  25  pacotes de café.\n",
      "A média amostral é:  499.3696\n",
      "O intervalo de  95.0 % confiança para a quantidade média de gramas nos pacotes de café é de:  [495.45, 503.29]\n"
     ]
    }
   ],
   "source": [
    "import scipy.stats as st\n",
    "\n",
    "amostra_cafe = [501.58, 505.3, 497.62, 511.23, 502.13, 498.45, 496.38, 498.44, 498.45, 488.0, 508.1, 493.79, 505.24,\n",
    "                492.62, 518.15, 488.77, 495.19, 510.56, 477.39, 508.69, 488.84, 503.39, 499.12, 511.97, 484.84]\n",
    "\n",
    "média_amostral = mean(amostra_cafe)\n",
    "desvio_populacional = np.sqrt(100) #desvio padrão populacional (raiz da variância)\n",
    "n = len(amostra_cafe)\n",
    "nivel_confianca = 0.95\n",
    "\n",
    "print(\"O tamanho da amostra é de: \", n, \" pacotes de café.\")\n",
    "print(\"A média amostral é: \",média_amostral)\n",
    "\n",
    "\n",
    "IC_media = st.norm.interval(nivel_confianca, loc=média_amostral, scale=desvio_populacional/np.sqrt(n))\n",
    "\n",
    "print(\"O intervalo de \", nivel_confianca*100 ,\n",
    "      \"% confiança para a quantidade média de gramas nos pacotes de café é de: \", [round(num,2) for num in IC_media])\n"
   ]
  },
  {
   "cell_type": "markdown",
   "id": "3af244be",
   "metadata": {},
   "source": [
    "# Teste de Normalidade dos dados "
   ]
  },
  {
   "cell_type": "code",
   "execution_count": 9,
   "id": "8e6bb6df",
   "metadata": {},
   "outputs": [
    {
     "name": "stdout",
     "output_type": "stream",
     "text": [
      "Teste de normalidade dos dados\n",
      "Não rejeitamos a Hipótese Nula - Os dados possuem dist. Normal\n",
      "P-valor:  0.86 > nível de significancia (alfa): 0.01\n"
     ]
    }
   ],
   "source": [
    "import scipy.stats as st\n",
    "\n",
    "amostra_cafe = [501.58, 505.3, 497.62, 511.23, 502.13, 498.45, 496.38, 498.44, 498.45, 488.0, 508.1, 493.79, 505.24,\n",
    "                492.62, 518.15, 488.77, 495.19, 510.56, 477.39, 508.69, 488.84, 503.39, 499.12, 511.97, 484.84]\n",
    "\n",
    "significancia = 0.01 \n",
    "\n",
    "from scipy.stats import normaltest \n",
    "stat_test, p_valor = normaltest(amostra_cafe) #Testando a normalidade dos dados - se p-valor > alfa (5%) os dados possuem dist. normal\n",
    "\n",
    "print('Teste de normalidade dos dados')\n",
    "\n",
    "if(p_valor <= significancia): \n",
    "    print('Rejeitamos a Hipótese Nula - Os dados não possuem dist. Normal')\n",
    "    print('P-valor: ', round(p_valor,2), '<= nível de significancia (alfa):',  round(significancia,2))\n",
    "\n",
    "else:\n",
    "    print('Não rejeitamos a Hipótese Nula - Os dados possuem dist. Normal')\n",
    "    print('P-valor: ', round(p_valor,2), '> nível de significancia (alfa):',  round(significancia,2))"
   ]
  },
  {
   "cell_type": "markdown",
   "id": "d134a4e7",
   "metadata": {},
   "source": [
    "# Teste de Hipótese"
   ]
  },
  {
   "cell_type": "code",
   "execution_count": 10,
   "id": "77c77c81",
   "metadata": {},
   "outputs": [
    {
     "name": "stdout",
     "output_type": "stream",
     "text": [
      "O tamanho da amostra é de:  25  pacotes de café.\n",
      "A média amostral é:  499.3696\n",
      "O variância populacional é de:  400\n",
      "-----------------------------------------------------------------------------------------\n",
      "Teste de Hipótese\n",
      "z = -0.158 Região crítica = -2.576\n",
      "Não rejeitamos a Hipótese Nula - - A máquina esta regulada.\n"
     ]
    }
   ],
   "source": [
    " \n",
    "media_H0 = 500\n",
    "media_amostral = mean(amostra_cafe)\n",
    "significancia = 0.01 \n",
    "variancia_populacional = 400 #desvio padrão populacional (raiz da variância)\n",
    "n = len(amostra_cafe)\n",
    "\n",
    "print(\"O tamanho da amostra é de: \", n, \" pacotes de café.\")\n",
    "print(\"A média amostral é: \",média_amostral)\n",
    "print(\"O variância populacional é de: \", variancia_populacional) \n",
    "      \n",
    "print('-----------------------------------------------------------------------------------------')\n",
    "\n",
    "print('Teste de Hipótese')\n",
    "\n",
    "z = (media_amostral - media_H0)/(np.sqrt(variancia_populacional/n)) #  Estatística de Teste\n",
    "regiao_critica = st.norm.ppf(significancia/2) # Rejeita se <-regiao_critica ou > regiao_critica\n",
    "\n",
    "print('z =',  round(z,3) , 'Região crítica =',  round(regiao_critica,3))\n",
    "\n",
    "if(z <= regiao_critica):\n",
    "    print('Rejeitamos a Hipótese Nula - A máquina esta desregulada')\n",
    "\n",
    "elif(z >= -regiao_critica): \n",
    "    print('Rejeitamos a Hipótese Nula - A máquina esta desregulada.')\n",
    "\n",
    "else:\n",
    "    print('Não rejeitamos a Hipótese Nula - - A máquina esta regulada.') "
   ]
  },
  {
   "cell_type": "markdown",
   "id": "1578154a",
   "metadata": {},
   "source": [
    "# Valor tabelado - Tabela T"
   ]
  },
  {
   "cell_type": "code",
   "execution_count": 11,
   "id": "33a47c09",
   "metadata": {},
   "outputs": [
    {
     "data": {
      "text/plain": [
       "1.729132811521367"
      ]
     },
     "execution_count": 11,
     "metadata": {},
     "output_type": "execute_result"
    }
   ],
   "source": [
    "#find T critical value\n",
    "Confianca = 1 - (0.10/2) # Bilateral\n",
    "st.t.ppf(q=Confianca,df=19) #df = graus de liberdade "
   ]
  },
  {
   "cell_type": "markdown",
   "id": "111844dd",
   "metadata": {},
   "source": [
    "# Intervalo de confiança t"
   ]
  },
  {
   "cell_type": "code",
   "execution_count": 12,
   "id": "18460653",
   "metadata": {},
   "outputs": [
    {
     "name": "stdout",
     "output_type": "stream",
     "text": [
      "(9.297978390370137, 10.702021609629863)\n",
      "(9.420031223696933, 10.579968776303065)\n"
     ]
    }
   ],
   "source": [
    "média = 10\n",
    "s = 1.5\n",
    "n = 20\n",
    "\n",
    "#95% \n",
    "print(st.t.interval(0.95, df = n -1,  loc=média, scale=s/np.sqrt(n)))\n",
    "\n",
    "#90%\n",
    "print(st.t.interval(0.90, df = n -1,  loc=média, scale=s/np.sqrt(n)))"
   ]
  },
  {
   "cell_type": "markdown",
   "id": "b671e0fa",
   "metadata": {},
   "source": [
    "# Exemplo IC da idade média ao falar\n"
   ]
  },
  {
   "cell_type": "code",
   "execution_count": 13,
   "id": "a5e38045",
   "metadata": {},
   "outputs": [
    {
     "name": "stdout",
     "output_type": "stream",
     "text": [
      "O tamanho da amostra é de:  20  crianças.\n",
      "A média amostral é:  1.9 anos\n",
      "O desvio padrão amostral é:  0.6 anos\n",
      "O intervalo de  95.0 % confiança para a idade média ao falar das crianças é de:  [1.59, 2.12]\n",
      "O intervalo de  90.0 % confiança para a idade média ao falar das crianças é de: [1.64, 2.07]\n"
     ]
    }
   ],
   "source": [
    "import scipy.stats as st\n",
    "\n",
    "amostra_criancas = [1.71, 1.06, 1.68, 2.12, 2.17, 2.71, 1.02, 2.62, 2.15,\n",
    "                2.22, 2.1, 1.97, 1.44, 2.48, 1.45, 2.3, 1.73, 1.0, 2.36, 0.8]\n",
    "\n",
    "media_amostral = mean(amostra_criancas)\n",
    "desvio_amostral = np.std(amostra_criancas) #desvio padrão AMOSTRAL \n",
    "n = len(amostra_criancas)\n",
    "\n",
    "print(\"O tamanho da amostra é de: \", n, \" crianças.\")\n",
    "print(\"A média amostral é: \", round(media_amostral,1) ,'anos')\n",
    "print(\"O desvio padrão amostral é: \", round(desvio_amostral,1)  ,'anos')\n",
    "\n",
    "#IC de 95% de confiança  \n",
    "nivel_confianca = 0.95\n",
    "IC_media_95 = st.t.interval(nivel_confianca, df = n-1,  loc=media_amostral, scale=desvio_amostral/np.sqrt(n))\n",
    "\n",
    "print(\"O intervalo de \", nivel_confianca*100 ,\n",
    "      \"% confiança para a idade média ao falar das crianças é de: \", [round(num,2) for num in IC_media_95])\n",
    "\n",
    "Amplitude = IC_media_95[1] - IC_media_95[0]\n",
    "#IC de 90% de confiança  \n",
    "nivel_confianca = 0.90\n",
    "IC_media_90 = st.t.interval(nivel_confianca, df = n-1,  loc=media_amostral, scale=desvio_amostral/np.sqrt(n))\n",
    "\n",
    "print(\"O intervalo de \", nivel_confianca*100 ,\n",
    "      \"% confiança para a idade média ao falar das crianças é de:\", [round(num,2) for num in IC_media_90])\n"
   ]
  },
  {
   "cell_type": "code",
   "execution_count": 14,
   "id": "f7894bc7",
   "metadata": {},
   "outputs": [
    {
     "name": "stdout",
     "output_type": "stream",
     "text": [
      "0.5211459676885142\n",
      "0.4305400076144994\n"
     ]
    }
   ],
   "source": [
    "# Quanto maior o nível de confiança, maior a amplitude do intervalo\n",
    "print(IC_media_95[1] - IC_media_95[0])\n",
    "print(IC_media_90[1] - IC_media_90[0])\n"
   ]
  },
  {
   "cell_type": "markdown",
   "id": "a5d4e8a0",
   "metadata": {},
   "source": [
    "# Exemplo cigarro"
   ]
  },
  {
   "cell_type": "code",
   "execution_count": 16,
   "id": "be4afcc4",
   "metadata": {},
   "outputs": [
    {
     "name": "stdout",
     "output_type": "stream",
     "text": [
      "O tamanho da amostra é de:  35  cigarros.\n",
      "A média amostral é:  32.1 mg\n",
      "O desvio padrão amostral é:  2.2 mg\n",
      "Teste de normalidade dos dados\n",
      "Não rejeitamos a Hipótese Nula - Os dados possuem dist. Normal\n",
      "P-valor:  0.43 > nível de significancia (alfa): 0.05\n"
     ]
    }
   ],
   "source": [
    "amostra_cigarro =  [33.81, 31.9, 30.15, 27.55, 32.87, 36.74, 31.75, 30.06, 34.3,\n",
    "                    33.09, 32.87, 32.25, 32.1, 31.91, 31.13, 30.18, 33.0, 37.04, \n",
    "                    34.62, 37.12, 33.3, 33.31, 30.91, 28.94, 33.51, 30.68, 31.99, \n",
    "                    32.12, 31.64, 28.13, 29.21, 31.8, 32.52, 30.24, 30.57]\n",
    "\n",
    "\n",
    "media_amostral = mean(amostra_cigarro)\n",
    "desvio_amostral = np.std(amostra_cigarro) #desvio padrão AMOSTRAL \n",
    "n = len(amostra_cigarro)\n",
    "\n",
    "print(\"O tamanho da amostra é de: \", n, \" cigarros.\")\n",
    "print(\"A média amostral é: \", round(media_amostral,1) ,'mg')\n",
    "print(\"O desvio padrão amostral é: \", round(desvio_amostral,1)  ,'mg')\n",
    "\n",
    "nivel_significancia = 0.05 \n",
    "\n",
    "from scipy.stats import normaltest \n",
    "stat_test, p_valor = normaltest(amostra_cigarro) #Testando a normalidade dos dados - se p-valor > alfa (5%) os dados possuem dist. normal\n",
    "\n",
    "print('Teste de normalidade dos dados')\n",
    "\n",
    "if(p_valor <= significancia): \n",
    "    print('Rejeitamos a Hipótese Nula - Os dados não possuem dist. Normal')\n",
    "    print('P-valor: ', round(p_valor,2), '<= nível de significancia (alfa):',  round(nivel_significancia,2))\n",
    "\n",
    "else:\n",
    "    print('Não rejeitamos a Hipótese Nula - Os dados possuem dist. Normal')\n",
    "    print('P-valor: ', round(p_valor,2), '> nível de significancia (alfa):',  round(nivel_significancia,2))"
   ]
  },
  {
   "cell_type": "code",
   "execution_count": 17,
   "id": "dbf5d69f",
   "metadata": {},
   "outputs": [
    {
     "name": "stdout",
     "output_type": "stream",
     "text": [
      "Teste de Hipótese\n",
      "t = 5.615 Região crítica = 1.691\n",
      "Rejeitamos a Hipótese Nula - Os cigarros contém mais do que 30 mg de nicotina.\n"
     ]
    }
   ],
   "source": [
    "from scipy.stats import t as t_student\n",
    "\n",
    "media_H0 = 30\n",
    "media_amostral = mean(amostra_cigarro)\n",
    "desvio_amostral = np.std(amostra_cigarro) #desvio padrão AMOSTRAL \n",
    "n = len(amostra_cigarro)\n",
    "graus_de_liberdade = n -1 \n",
    "\n",
    "print('Teste de Hipótese')\n",
    "\n",
    "t = (media_amostral - media_H0) / (desvio_amostral / np.sqrt(n))\n",
    "regiao_critica = - t_student.ppf(nivel_significancia, graus_de_liberdade) # Rejeita se t > regiao_critica\n",
    "\n",
    "print('t =',  round(t,3) , 'Região crítica =',  round(regiao_critica,3))\n",
    "\n",
    "if(t > regiao_critica): \n",
    "    print('Rejeitamos a Hipótese Nula - Os cigarros contém mais do que 30 mg de nicotina.')\n",
    "\n",
    "else:\n",
    "    print('Não rejeitamos a Hipótese Nula - Os cigarros contém até 30 mg de nicotina.') "
   ]
  },
  {
   "cell_type": "markdown",
   "id": "18168d29",
   "metadata": {},
   "source": [
    "# Teste de Hipótese para uma amostra usando função pronta"
   ]
  },
  {
   "cell_type": "code",
   "execution_count": 18,
   "id": "a02a5f1f",
   "metadata": {},
   "outputs": [
    {
     "name": "stdout",
     "output_type": "stream",
     "text": [
      "Estatística de teste: 5.53 e P=valor: 0.0\n",
      "Rejeitamos a Hipótese Nula - Os cigarros contém mais do que 30 mg de nicotina.\n"
     ]
    }
   ],
   "source": [
    "amostra_cigarro =  [33.81, 31.9, 30.15, 27.55, 32.87, 36.74, 31.75, 30.06, 34.3,\n",
    "                    33.09, 32.87, 32.25, 32.1, 31.91, 31.13, 30.18, 33.0, 37.04, \n",
    "                    34.62, 37.12, 33.3, 33.31, 30.91, 28.94, 33.51, 30.68, 31.99, \n",
    "                    32.12, 31.64, 28.13, 29.21, 31.8, 32.52, 30.24, 30.57]\n",
    "\n",
    "\n",
    "media_H0 = 30\n",
    "\n",
    "t_statistic, p_value = st.ttest_1samp(a=amostra_cigarro, popmean=media_H0, alternative='greater')\n",
    "print('Estatística de teste:',  round(t_statistic,2) ,'e P=valor:',   round(p_value,2)) \n",
    "\n",
    "if(p_value < nivel_significancia): \n",
    "    print('Rejeitamos a Hipótese Nula - Os cigarros contém mais do que 30 mg de nicotina.')\n",
    "\n",
    "else:\n",
    "    print('Não rejeitamos a Hipótese Nula - Os cigarros contém até 30 mg de nicotina.') "
   ]
  },
  {
   "cell_type": "markdown",
   "id": "465c8c0b",
   "metadata": {},
   "source": [
    "# Teste de Hipótese duas amostras "
   ]
  },
  {
   "cell_type": "markdown",
   "id": "a6dea715",
   "metadata": {},
   "source": [
    "### Teste amostras independentes "
   ]
  },
  {
   "cell_type": "markdown",
   "id": "930dea86",
   "metadata": {},
   "source": [
    "## <font color='red'>Problema</font>\n",
    "\n",
    "Dataset contém informações de 32 alunos da rede publica e privada. Queremos verificar se exisre diferença na nota média de Biologia para alunos que sentam na frente ou no fundo. "
   ]
  },
  {
   "cell_type": "code",
   "execution_count": 19,
   "id": "5d2dcd47",
   "metadata": {},
   "outputs": [
    {
     "data": {
      "text/html": [
       "<div>\n",
       "<style scoped>\n",
       "    .dataframe tbody tr th:only-of-type {\n",
       "        vertical-align: middle;\n",
       "    }\n",
       "\n",
       "    .dataframe tbody tr th {\n",
       "        vertical-align: top;\n",
       "    }\n",
       "\n",
       "    .dataframe thead th {\n",
       "        text-align: right;\n",
       "    }\n",
       "</style>\n",
       "<table border=\"1\" class=\"dataframe\">\n",
       "  <thead>\n",
       "    <tr style=\"text-align: right;\">\n",
       "      <th></th>\n",
       "      <th>Sujeito</th>\n",
       "      <th>Genero</th>\n",
       "      <th>Escola</th>\n",
       "      <th>Posicao_Sala</th>\n",
       "      <th>Nota_Biol</th>\n",
       "      <th>Nota_Fis</th>\n",
       "      <th>Nota_Hist</th>\n",
       "    </tr>\n",
       "  </thead>\n",
       "  <tbody>\n",
       "    <tr>\n",
       "      <th>0</th>\n",
       "      <td>1</td>\n",
       "      <td>M</td>\n",
       "      <td>Privada</td>\n",
       "      <td>Fundos</td>\n",
       "      <td>8.1</td>\n",
       "      <td>4.6</td>\n",
       "      <td>2.9</td>\n",
       "    </tr>\n",
       "    <tr>\n",
       "      <th>1</th>\n",
       "      <td>2</td>\n",
       "      <td>F</td>\n",
       "      <td>Privada</td>\n",
       "      <td>Fundos</td>\n",
       "      <td>5.3</td>\n",
       "      <td>4.9</td>\n",
       "      <td>6.4</td>\n",
       "    </tr>\n",
       "    <tr>\n",
       "      <th>2</th>\n",
       "      <td>3</td>\n",
       "      <td>M</td>\n",
       "      <td>Publica</td>\n",
       "      <td>Fundos</td>\n",
       "      <td>2.9</td>\n",
       "      <td>3.7</td>\n",
       "      <td>3.1</td>\n",
       "    </tr>\n",
       "    <tr>\n",
       "      <th>3</th>\n",
       "      <td>4</td>\n",
       "      <td>M</td>\n",
       "      <td>Publica</td>\n",
       "      <td>Fundos</td>\n",
       "      <td>3.7</td>\n",
       "      <td>3.8</td>\n",
       "      <td>4.9</td>\n",
       "    </tr>\n",
       "    <tr>\n",
       "      <th>4</th>\n",
       "      <td>5</td>\n",
       "      <td>F</td>\n",
       "      <td>Publica</td>\n",
       "      <td>Fundos</td>\n",
       "      <td>4.4</td>\n",
       "      <td>4.2</td>\n",
       "      <td>4.9</td>\n",
       "    </tr>\n",
       "  </tbody>\n",
       "</table>\n",
       "</div>"
      ],
      "text/plain": [
       "   Sujeito Genero   Escola Posicao_Sala  Nota_Biol  Nota_Fis  Nota_Hist\n",
       "0        1      M  Privada       Fundos        8.1       4.6        2.9\n",
       "1        2      F  Privada       Fundos        5.3       4.9        6.4\n",
       "2        3      M  Publica       Fundos        2.9       3.7        3.1\n",
       "3        4      M  Publica       Fundos        3.7       3.8        4.9\n",
       "4        5      F  Publica       Fundos        4.4       4.2        4.9"
      ]
     },
     "execution_count": 19,
     "metadata": {},
     "output_type": "execute_result"
    }
   ],
   "source": [
    "import pandas as pd\n",
    "\n",
    "dados_alunos = pd.read_csv('Alunos.csv', sep= ';', decimal= ',')\n",
    "dados_alunos.head()"
   ]
  },
  {
   "cell_type": "code",
   "execution_count": 20,
   "id": "1e36278f",
   "metadata": {},
   "outputs": [],
   "source": [
    "### Seleção das amostras\n",
    "Fundos = dados_alunos.query('Posicao_Sala == \"Fundos\"').Nota_Biol\n",
    "Frente = dados_alunos.query('Posicao_Sala == \"Frente\"').Nota_Biol"
   ]
  },
  {
   "cell_type": "markdown",
   "id": "160f57f6",
   "metadata": {},
   "source": [
    "# Teste de normalidade dos dados\n",
    "\n",
    "A função *shapiro* testa a hipótese nula $H_0$ de que a amostra é proveniente de uma distribuição normal.\n",
    "\n",
    "$$\\begin{cases} H_0 = \\text{Dados vem de uma normal}\\\\H_1 = \\text{Dados não vem de uma normal}\\end{cases} $$"
   ]
  },
  {
   "cell_type": "code",
   "execution_count": 21,
   "id": "397d83c9",
   "metadata": {},
   "outputs": [
    {
     "name": "stdout",
     "output_type": "stream",
     "text": [
      "P-valor:  0.07 , nível de significancia (alfa): 0.05\n"
     ]
    }
   ],
   "source": [
    "stat_test, p_valor = st.shapiro(Fundos)\n",
    "print('P-valor: ', round(p_valor,2), ', nível de significancia (alfa):',  round(nivel_significancia,2))"
   ]
  },
  {
   "cell_type": "code",
   "execution_count": 22,
   "id": "d1bcafdc",
   "metadata": {
    "scrolled": true
   },
   "outputs": [
    {
     "name": "stdout",
     "output_type": "stream",
     "text": [
      "P-valor:  0.99 , nível de significancia (alfa): 0.05\n"
     ]
    }
   ],
   "source": [
    "stat_test, p_valor = st.shapiro(Frente)\n",
    "print('P-valor: ', round(p_valor,2), ', nível de significancia (alfa):',  round(nivel_significancia,2))"
   ]
  },
  {
   "cell_type": "markdown",
   "id": "927c4806",
   "metadata": {},
   "source": [
    "# Teste de homogeinedade das variancias (variancias iguais)\n",
    "\n",
    "A função *levene* testa a hipótese nula $H_0$ de que os grupos 1 (Frente) e 2 (Fundo) vêm de populações com desvios-padrão iguais.\n",
    "\n",
    "$$\\begin{cases} H_0: \\text{as amostras possuem variâncias iguais}\\\\H_1:\n",
    "\\text{as amostras possuem variâncias diferentes}\\end{cases} $$"
   ]
  },
  {
   "cell_type": "code",
   "execution_count": 23,
   "id": "bdb7de67",
   "metadata": {},
   "outputs": [
    {
     "name": "stdout",
     "output_type": "stream",
     "text": [
      "P-valor:  0.32 , nível de significancia (alfa): 0.05\n"
     ]
    }
   ],
   "source": [
    "stat_test, p_valor = st.levene(Fundos, Frente, center='mean')\n",
    "print('P-valor: ', round(p_valor,2), ', nível de significancia (alfa):',  round(nivel_significancia,2))"
   ]
  },
  {
   "cell_type": "markdown",
   "id": "23f02b56",
   "metadata": {},
   "source": [
    "# Teste de hipotese independente\n",
    "\n",
    "A função *ttest_ind* testa a hipótese nula $H_0$ de que os grupos 1 (Frente) e 2 (Fundo) tem o valor médio das notas de Biologia iguais\n",
    "\n",
    "$$\\begin{cases} H_0 = \\text{Nota média do Fundo é igual a nota média da frente}\\\\H_1 = \\text{Nota média do Fundo é diferente da nota média da frente}\\end{cases} $$"
   ]
  },
  {
   "cell_type": "code",
   "execution_count": 24,
   "id": "62a25bbc",
   "metadata": {},
   "outputs": [
    {
     "name": "stdout",
     "output_type": "stream",
     "text": [
      "P-valor:  0.0 , nível de significancia (alfa): 0.05\n"
     ]
    }
   ],
   "source": [
    "stat_test, p_valor = st.ttest_ind(a=Fundos, b=Frente, equal_var=True , alternative='two-sided')\n",
    "print('P-valor: ', round(p_valor,2), ', nível de significancia (alfa):',  round(nivel_significancia,2))"
   ]
  },
  {
   "cell_type": "code",
   "execution_count": 25,
   "id": "01fb5812",
   "metadata": {},
   "outputs": [
    {
     "name": "stdout",
     "output_type": "stream",
     "text": [
      "P-valor:  0.0 , nível de significancia (alfa): 0.05\n"
     ]
    }
   ],
   "source": [
    "#E se as variancias fossem diferentes?\n",
    "\n",
    "stat_test, p_valor =  st.ttest_ind(a=Fundos, b=Frente, equal_var=False , alternative='two-sided')\n",
    "print('P-valor: ', round(p_valor,2), ', nível de significancia (alfa):',  round(nivel_significancia,2))"
   ]
  },
  {
   "cell_type": "markdown",
   "id": "bf5849f3",
   "metadata": {},
   "source": [
    " <font color=green size=10>Teste de Hipótese</font>\n",
    "\n",
    "##  Testes para Duas Amostras Dependentes\n",
    "***\n",
    "\n",
    "## <font color='red'>Problema</font>\n",
    "\n",
    "Dataset contém informações de 275 individuos tratados com anticonvulsivante. A váriavel Convulsões indica o número de convulsões por dia de cada paciente: \n",
    "\n",
    "* Convulsoes_PT: Antes do inicio do tratamento\n",
    "* Convulsoes_S1: Na primeira semana do tratamento\n",
    "* Convulsoes_PT: Na sexta semana do tratamento\n",
    "\n",
    "Vamos comparar e teste se houve diminuição das convulsões comparando antes do inicio do tratamento com a primeira semana do tratamento. "
   ]
  },
  {
   "cell_type": "code",
   "execution_count": 26,
   "id": "425242eb",
   "metadata": {
    "scrolled": false
   },
   "outputs": [
    {
     "data": {
      "text/html": [
       "<div>\n",
       "<style scoped>\n",
       "    .dataframe tbody tr th:only-of-type {\n",
       "        vertical-align: middle;\n",
       "    }\n",
       "\n",
       "    .dataframe tbody tr th {\n",
       "        vertical-align: top;\n",
       "    }\n",
       "\n",
       "    .dataframe thead th {\n",
       "        text-align: right;\n",
       "    }\n",
       "</style>\n",
       "<table border=\"1\" class=\"dataframe\">\n",
       "  <thead>\n",
       "    <tr style=\"text-align: right;\">\n",
       "      <th></th>\n",
       "      <th>ID_Paciente</th>\n",
       "      <th>ID_Medico</th>\n",
       "      <th>Genero</th>\n",
       "      <th>Data_Nasc</th>\n",
       "      <th>Convulsoes_PT</th>\n",
       "      <th>Convulsoes_S1</th>\n",
       "      <th>Convulsoes_S6</th>\n",
       "      <th>PTS1</th>\n",
       "    </tr>\n",
       "  </thead>\n",
       "  <tbody>\n",
       "    <tr>\n",
       "      <th>0</th>\n",
       "      <td>382</td>\n",
       "      <td>HQQS</td>\n",
       "      <td>Masculino</td>\n",
       "      <td>11/25/1967</td>\n",
       "      <td>3</td>\n",
       "      <td>3</td>\n",
       "      <td>3</td>\n",
       "      <td>0</td>\n",
       "    </tr>\n",
       "    <tr>\n",
       "      <th>1</th>\n",
       "      <td>06YO</td>\n",
       "      <td>IKGU</td>\n",
       "      <td>Masculino</td>\n",
       "      <td>08/16/1967</td>\n",
       "      <td>4</td>\n",
       "      <td>5</td>\n",
       "      <td>4</td>\n",
       "      <td>-1</td>\n",
       "    </tr>\n",
       "    <tr>\n",
       "      <th>2</th>\n",
       "      <td>07GL</td>\n",
       "      <td>VLDP</td>\n",
       "      <td>Masculino</td>\n",
       "      <td>01/22/1972</td>\n",
       "      <td>3</td>\n",
       "      <td>1</td>\n",
       "      <td>2</td>\n",
       "      <td>2</td>\n",
       "    </tr>\n",
       "    <tr>\n",
       "      <th>3</th>\n",
       "      <td>07IT</td>\n",
       "      <td>SRKQ</td>\n",
       "      <td>Masculino</td>\n",
       "      <td>02/17/1987</td>\n",
       "      <td>7</td>\n",
       "      <td>7</td>\n",
       "      <td>4</td>\n",
       "      <td>0</td>\n",
       "    </tr>\n",
       "    <tr>\n",
       "      <th>4</th>\n",
       "      <td>827</td>\n",
       "      <td>WGSX</td>\n",
       "      <td>Feminino</td>\n",
       "      <td>02/09/1956</td>\n",
       "      <td>1</td>\n",
       "      <td>3</td>\n",
       "      <td>3</td>\n",
       "      <td>-2</td>\n",
       "    </tr>\n",
       "    <tr>\n",
       "      <th>...</th>\n",
       "      <td>...</td>\n",
       "      <td>...</td>\n",
       "      <td>...</td>\n",
       "      <td>...</td>\n",
       "      <td>...</td>\n",
       "      <td>...</td>\n",
       "      <td>...</td>\n",
       "      <td>...</td>\n",
       "    </tr>\n",
       "    <tr>\n",
       "      <th>270</th>\n",
       "      <td>Z155</td>\n",
       "      <td>ZGKI</td>\n",
       "      <td>Masculino</td>\n",
       "      <td>06/18/1991</td>\n",
       "      <td>1</td>\n",
       "      <td>2</td>\n",
       "      <td>2</td>\n",
       "      <td>-1</td>\n",
       "    </tr>\n",
       "    <tr>\n",
       "      <th>271</th>\n",
       "      <td>Z9U9</td>\n",
       "      <td>ISRM</td>\n",
       "      <td>Masculino</td>\n",
       "      <td>03/28/1956</td>\n",
       "      <td>1</td>\n",
       "      <td>1</td>\n",
       "      <td>1</td>\n",
       "      <td>0</td>\n",
       "    </tr>\n",
       "    <tr>\n",
       "      <th>272</th>\n",
       "      <td>ZGDT</td>\n",
       "      <td>XCNY</td>\n",
       "      <td>Masculino</td>\n",
       "      <td>02/20/1959</td>\n",
       "      <td>3</td>\n",
       "      <td>1</td>\n",
       "      <td>1</td>\n",
       "      <td>2</td>\n",
       "    </tr>\n",
       "    <tr>\n",
       "      <th>273</th>\n",
       "      <td>ZKA0</td>\n",
       "      <td>CQRJ</td>\n",
       "      <td>Masculino</td>\n",
       "      <td>06/14/1959</td>\n",
       "      <td>1</td>\n",
       "      <td>2</td>\n",
       "      <td>1</td>\n",
       "      <td>-1</td>\n",
       "    </tr>\n",
       "    <tr>\n",
       "      <th>274</th>\n",
       "      <td>ZQFQ</td>\n",
       "      <td>FPZO</td>\n",
       "      <td>Masculino</td>\n",
       "      <td>05/10/1969</td>\n",
       "      <td>2</td>\n",
       "      <td>1</td>\n",
       "      <td>2</td>\n",
       "      <td>1</td>\n",
       "    </tr>\n",
       "  </tbody>\n",
       "</table>\n",
       "<p>275 rows × 8 columns</p>\n",
       "</div>"
      ],
      "text/plain": [
       "    ID_Paciente ID_Medico     Genero   Data_Nasc  Convulsoes_PT  \\\n",
       "0           382      HQQS  Masculino  11/25/1967              3   \n",
       "1          06YO      IKGU  Masculino  08/16/1967              4   \n",
       "2          07GL      VLDP  Masculino  01/22/1972              3   \n",
       "3          07IT      SRKQ  Masculino  02/17/1987              7   \n",
       "4           827      WGSX   Feminino  02/09/1956              1   \n",
       "..          ...       ...        ...         ...            ...   \n",
       "270        Z155      ZGKI  Masculino  06/18/1991              1   \n",
       "271        Z9U9      ISRM  Masculino  03/28/1956              1   \n",
       "272        ZGDT      XCNY  Masculino  02/20/1959              3   \n",
       "273        ZKA0      CQRJ  Masculino  06/14/1959              1   \n",
       "274        ZQFQ      FPZO  Masculino  05/10/1969              2   \n",
       "\n",
       "     Convulsoes_S1  Convulsoes_S6  PTS1  \n",
       "0                3              3     0  \n",
       "1                5              4    -1  \n",
       "2                1              2     2  \n",
       "3                7              4     0  \n",
       "4                3              3    -2  \n",
       "..             ...            ...   ...  \n",
       "270              2              2    -1  \n",
       "271              1              1     0  \n",
       "272              1              1     2  \n",
       "273              2              1    -1  \n",
       "274              1              2     1  \n",
       "\n",
       "[275 rows x 8 columns]"
      ]
     },
     "execution_count": 26,
     "metadata": {},
     "output_type": "execute_result"
    }
   ],
   "source": [
    "dados_pacientes = pd.read_csv('Convulsoes.csv', sep= ';', decimal= ',')\n",
    "\n",
    "#Criando a variavel que é a diferença entre PT e S1\n",
    "dados_pacientes['PTS1'] = dados_pacientes.Convulsoes_PT - dados_pacientes.Convulsoes_S1 \n",
    "dados_pacientes"
   ]
  },
  {
   "cell_type": "code",
   "execution_count": 27,
   "id": "49135604",
   "metadata": {},
   "outputs": [
    {
     "name": "stdout",
     "output_type": "stream",
     "text": [
      "P-valor:  0.0 , nível de significancia (alfa): 0.05\n"
     ]
    }
   ],
   "source": [
    "stat_test, p_valor = st.shapiro(dados_pacientes.PTS1)\n",
    "print('P-valor: ', round(p_valor,2), ', nível de significancia (alfa):',  round(nivel_significancia,2))\n"
   ]
  },
  {
   "cell_type": "markdown",
   "id": "bbcf082a",
   "metadata": {},
   "source": [
    "# Teste de hipotese pareado (related)\n",
    "\n",
    "A função *ttest_reg* testa a hipótese nula $H_0$ de que a diferença médias das convulsões do grupos 1 (Antes do tratamento- PT) e 2 (Primeira semana S1) é igual a zero.\n",
    "\n",
    "$$\\begin{cases} H_0 = \\text{Diferença média de convulsões da semana antes do tratamento e da primeira semana = 0}\\\\H_1 = \\text{Diferença média de convulsões da semana antes do tratamento e da primeira semana} \\neq 0 \\end{cases} $$"
   ]
  },
  {
   "cell_type": "code",
   "execution_count": 28,
   "id": "b6c39d0c",
   "metadata": {},
   "outputs": [
    {
     "name": "stdout",
     "output_type": "stream",
     "text": [
      "Estatística de teste:  3.676 P-valor:  0.0 , nível de significancia (alfa): 0.05\n"
     ]
    }
   ],
   "source": [
    "stat_test, p_valor = st.ttest_rel(dados_pacientes.Convulsoes_PT,dados_pacientes.Convulsoes_S1, alternative='greater')\n",
    "print('Estatística de teste: ', round(stat_test,3), 'P-valor: ', round(p_valor,3), \n",
    "      ', nível de significancia (alfa):',  round(nivel_significancia,2))\n"
   ]
  },
  {
   "cell_type": "markdown",
   "id": "d94377e9",
   "metadata": {},
   "source": [
    "# <font color=green size=10>Teste Anova - uma via</font>\n",
    "***\n",
    "\n",
    "## <font color='red'>Problema</font>\n",
    "\n",
    "Dataset contém informações de 31 individuos tratados com placebo, um anti-hipertensivo já em uso no mercado e um anti-pertensivo novo. Vamos verificar se existe diferença na pressão sistolica dos individuos referente ao tratamento utilizado."
   ]
  },
  {
   "cell_type": "code",
   "execution_count": 29,
   "id": "3cd66b87",
   "metadata": {},
   "outputs": [
    {
     "data": {
      "text/html": [
       "<div>\n",
       "<style scoped>\n",
       "    .dataframe tbody tr th:only-of-type {\n",
       "        vertical-align: middle;\n",
       "    }\n",
       "\n",
       "    .dataframe tbody tr th {\n",
       "        vertical-align: top;\n",
       "    }\n",
       "\n",
       "    .dataframe thead th {\n",
       "        text-align: right;\n",
       "    }\n",
       "</style>\n",
       "<table border=\"1\" class=\"dataframe\">\n",
       "  <thead>\n",
       "    <tr style=\"text-align: right;\">\n",
       "      <th></th>\n",
       "      <th>Sujeito</th>\n",
       "      <th>Grupo</th>\n",
       "      <th>Pressao</th>\n",
       "      <th>BC</th>\n",
       "      <th>Triglicerides</th>\n",
       "      <th>Glicemia</th>\n",
       "    </tr>\n",
       "  </thead>\n",
       "  <tbody>\n",
       "    <tr>\n",
       "      <th>0</th>\n",
       "      <td>21</td>\n",
       "      <td>Placebo</td>\n",
       "      <td>175.33</td>\n",
       "      <td>356.33</td>\n",
       "      <td>65.84</td>\n",
       "      <td>93</td>\n",
       "    </tr>\n",
       "    <tr>\n",
       "      <th>1</th>\n",
       "      <td>30</td>\n",
       "      <td>Placebo</td>\n",
       "      <td>158.00</td>\n",
       "      <td>378.00</td>\n",
       "      <td>148.15</td>\n",
       "      <td>109</td>\n",
       "    </tr>\n",
       "    <tr>\n",
       "      <th>2</th>\n",
       "      <td>27</td>\n",
       "      <td>Placebo</td>\n",
       "      <td>163.67</td>\n",
       "      <td>397.33</td>\n",
       "      <td>115.23</td>\n",
       "      <td>112</td>\n",
       "    </tr>\n",
       "    <tr>\n",
       "      <th>3</th>\n",
       "      <td>20</td>\n",
       "      <td>Placebo</td>\n",
       "      <td>184.67</td>\n",
       "      <td>435.33</td>\n",
       "      <td>76.54</td>\n",
       "      <td>113</td>\n",
       "    </tr>\n",
       "    <tr>\n",
       "      <th>4</th>\n",
       "      <td>31</td>\n",
       "      <td>Placebo</td>\n",
       "      <td>171.67</td>\n",
       "      <td>365.33</td>\n",
       "      <td>73.25</td>\n",
       "      <td>115</td>\n",
       "    </tr>\n",
       "  </tbody>\n",
       "</table>\n",
       "</div>"
      ],
      "text/plain": [
       "   Sujeito    Grupo  Pressao      BC  Triglicerides  Glicemia\n",
       "0       21  Placebo   175.33  356.33          65.84        93\n",
       "1       30  Placebo   158.00  378.00         148.15       109\n",
       "2       27  Placebo   163.67  397.33         115.23       112\n",
       "3       20  Placebo   184.67  435.33          76.54       113\n",
       "4       31  Placebo   171.67  365.33          73.25       115"
      ]
     },
     "execution_count": 29,
     "metadata": {},
     "output_type": "execute_result"
    }
   ],
   "source": [
    "dados_tratamentos = pd.read_csv('Hipertensao.csv', sep= ';', decimal= ',')\n",
    "dados_tratamentos.head(5)"
   ]
  },
  {
   "cell_type": "code",
   "execution_count": 30,
   "id": "aebbf4eb",
   "metadata": {},
   "outputs": [],
   "source": [
    "Placebo = dados_tratamentos.query('Grupo == \"Placebo\"').Pressao\n",
    "TratNovo = dados_tratamentos.query('Grupo == \"AH Novo\"').Pressao\n",
    "Padrao = dados_tratamentos.query('Grupo == \"AH Padrao\"').Pressao"
   ]
  },
  {
   "cell_type": "code",
   "execution_count": 31,
   "id": "32d0346c",
   "metadata": {
    "scrolled": true
   },
   "outputs": [
    {
     "name": "stdout",
     "output_type": "stream",
     "text": [
      "Placebo: P-valor:  0.53 , nível de significancia (alfa): 0.05\n",
      "TratNovo: P-valor:  0.28 , nível de significancia (alfa): 0.05\n",
      "Padrao: P-valor:  0.72 , nível de significancia (alfa): 0.05\n"
     ]
    }
   ],
   "source": [
    "# Testando a normalidade dos dados \n",
    "\n",
    "stat_test, p_valor = st.shapiro(Placebo)\n",
    "print('Placebo: P-valor: ', round(p_valor,2), ', nível de significancia (alfa):',  round(nivel_significancia,2))\n",
    "\n",
    "stat_test, p_valor = st.shapiro(TratNovo)\n",
    "print('TratNovo: P-valor: ', round(p_valor,2), ', nível de significancia (alfa):',  round(nivel_significancia,2))\n",
    "\n",
    "stat_test, p_valor = st.shapiro(Padrao)\n",
    "print('Padrao: P-valor: ', round(p_valor,2), ', nível de significancia (alfa):',  round(nivel_significancia,2))\n"
   ]
  },
  {
   "cell_type": "code",
   "execution_count": 32,
   "id": "5927a79b",
   "metadata": {},
   "outputs": [
    {
     "name": "stdout",
     "output_type": "stream",
     "text": [
      "Padrao: P-valor:  0.63 , nível de significancia (alfa): 0.05\n"
     ]
    }
   ],
   "source": [
    "# Testando a homogeinedade das variancias \n",
    "stat_test, p_valor = st.levene(Placebo, TratNovo, Padrao, center='mean')\n",
    "print('Padrao: P-valor: ', round(p_valor,2), ', nível de significancia (alfa):',  round(nivel_significancia,2))\n"
   ]
  },
  {
   "cell_type": "markdown",
   "id": "c5273447",
   "metadata": {},
   "source": [
    "# Comparando a média dos 3 grupos \n",
    "\n",
    "\n",
    "\n",
    "$$\\begin{cases} H_0 = \\text{A média dos 3 grupos são iguais} = 0 \\\\H_1 = \\text{Pelo menos uma das médias é diferente}  \\end{cases} $$"
   ]
  },
  {
   "cell_type": "code",
   "execution_count": 33,
   "id": "30f42386",
   "metadata": {},
   "outputs": [
    {
     "name": "stdout",
     "output_type": "stream",
     "text": [
      "P-valor:  0.01 , nível de significancia (alfa): 0.05\n"
     ]
    }
   ],
   "source": [
    "stat_test, p_valor = st.f_oneway(Placebo, TratNovo, Padrao )\n",
    "print('P-valor: ', round(p_valor,2), ', nível de significancia (alfa):',  round(nivel_significancia,2))"
   ]
  },
  {
   "cell_type": "code",
   "execution_count": 34,
   "id": "0a0ddb43",
   "metadata": {},
   "outputs": [
    {
     "data": {
      "text/html": [
       "<div>\n",
       "<style scoped>\n",
       "    .dataframe tbody tr th:only-of-type {\n",
       "        vertical-align: middle;\n",
       "    }\n",
       "\n",
       "    .dataframe tbody tr th {\n",
       "        vertical-align: top;\n",
       "    }\n",
       "\n",
       "    .dataframe thead th {\n",
       "        text-align: right;\n",
       "    }\n",
       "</style>\n",
       "<table border=\"1\" class=\"dataframe\">\n",
       "  <thead>\n",
       "    <tr style=\"text-align: right;\">\n",
       "      <th></th>\n",
       "      <th>sum_sq</th>\n",
       "      <th>df</th>\n",
       "      <th>F</th>\n",
       "      <th>PR(&gt;F)</th>\n",
       "    </tr>\n",
       "  </thead>\n",
       "  <tbody>\n",
       "    <tr>\n",
       "      <th>Grupo</th>\n",
       "      <td>3631.035134</td>\n",
       "      <td>2.0</td>\n",
       "      <td>5.520544</td>\n",
       "      <td>0.009526</td>\n",
       "    </tr>\n",
       "    <tr>\n",
       "      <th>Residual</th>\n",
       "      <td>9208.239137</td>\n",
       "      <td>28.0</td>\n",
       "      <td>NaN</td>\n",
       "      <td>NaN</td>\n",
       "    </tr>\n",
       "  </tbody>\n",
       "</table>\n",
       "</div>"
      ],
      "text/plain": [
       "               sum_sq    df         F    PR(>F)\n",
       "Grupo     3631.035134   2.0  5.520544  0.009526\n",
       "Residual  9208.239137  28.0       NaN       NaN"
      ]
     },
     "execution_count": 34,
     "metadata": {},
     "output_type": "execute_result"
    }
   ],
   "source": [
    "import statsmodels.api as sm\n",
    "from statsmodels.formula.api import ols\n",
    "\n",
    "# Ordinary Least Squares (OLS) model\n",
    "model = ols('Pressao ~ Grupo', data=dados_tratamentos).fit()\n",
    "anova_table = sm.stats.anova_lm(model, typ=2)\n",
    "anova_table"
   ]
  },
  {
   "cell_type": "markdown",
   "id": "282f27eb",
   "metadata": {},
   "source": [
    "# Teste Post hoc - detectando quais grupos são diferentes\n",
    "* Duncan - Mais liberal \n",
    "* Bonferroni - Mais conservador \n",
    "* Tukey - hsd - Moderado"
   ]
  },
  {
   "cell_type": "code",
   "execution_count": 35,
   "id": "26d33938",
   "metadata": {},
   "outputs": [
    {
     "name": "stdout",
     "output_type": "stream",
     "text": [
      "    Multiple Comparison of Means - Tukey HSD, FWER=0.05    \n",
      "===========================================================\n",
      "  group1    group2  meandiff p-adj   lower    upper  reject\n",
      "-----------------------------------------------------------\n",
      "  AH Novo AH Padrao  -8.8232 0.5455 -29.4362 11.7898  False\n",
      "  AH Novo   Placebo  16.4169 0.1184  -3.3657 36.1996  False\n",
      "AH Padrao   Placebo  25.2402 0.0081   6.0311 44.4493   True\n",
      "-----------------------------------------------------------\n"
     ]
    }
   ],
   "source": [
    "from statsmodels.stats.multicomp import pairwise_tukeyhsd\n",
    "m_comp = pairwise_tukeyhsd(endog=dados_tratamentos['Pressao'],\n",
    "                           groups=dados_tratamentos['Grupo'], alpha=0.05)\n",
    "print(m_comp)\n",
    "\n",
    "#Verificamos que existe diferença entre os tratamentos,\n",
    "#ou seja há efeito do tratamento sobre a pressão arterial.\n",
    "#O post-hoc do teste de Tukey hsd mostrou que \n",
    "#existe diferença entre o placebo e entre o grupo de anti hipertensivo padrão."
   ]
  },
  {
   "cell_type": "markdown",
   "id": "cfdfae1b",
   "metadata": {},
   "source": [
    "# Teste qui-quadrado \n",
    "\n",
    "Vamos utilizar um conjunto de dados de RH da IBM do Kaggle (https://www.kaggle.com/datasets/pavansubhasht/ibm-hr-analytics-attrition-dataset)"
   ]
  },
  {
   "cell_type": "code",
   "execution_count": 36,
   "id": "f4d2d72f",
   "metadata": {},
   "outputs": [
    {
     "data": {
      "text/html": [
       "<div>\n",
       "<style scoped>\n",
       "    .dataframe tbody tr th:only-of-type {\n",
       "        vertical-align: middle;\n",
       "    }\n",
       "\n",
       "    .dataframe tbody tr th {\n",
       "        vertical-align: top;\n",
       "    }\n",
       "\n",
       "    .dataframe thead th {\n",
       "        text-align: right;\n",
       "    }\n",
       "</style>\n",
       "<table border=\"1\" class=\"dataframe\">\n",
       "  <thead>\n",
       "    <tr style=\"text-align: right;\">\n",
       "      <th></th>\n",
       "      <th>Attrition</th>\n",
       "      <th>JobSatisfaction</th>\n",
       "    </tr>\n",
       "  </thead>\n",
       "  <tbody>\n",
       "    <tr>\n",
       "      <th>0</th>\n",
       "      <td>Yes</td>\n",
       "      <td>4</td>\n",
       "    </tr>\n",
       "    <tr>\n",
       "      <th>1</th>\n",
       "      <td>No</td>\n",
       "      <td>2</td>\n",
       "    </tr>\n",
       "    <tr>\n",
       "      <th>2</th>\n",
       "      <td>Yes</td>\n",
       "      <td>3</td>\n",
       "    </tr>\n",
       "    <tr>\n",
       "      <th>3</th>\n",
       "      <td>No</td>\n",
       "      <td>3</td>\n",
       "    </tr>\n",
       "    <tr>\n",
       "      <th>4</th>\n",
       "      <td>No</td>\n",
       "      <td>2</td>\n",
       "    </tr>\n",
       "  </tbody>\n",
       "</table>\n",
       "</div>"
      ],
      "text/plain": [
       "  Attrition JobSatisfaction\n",
       "0       Yes               4\n",
       "1        No               2\n",
       "2       Yes               3\n",
       "3        No               3\n",
       "4        No               2"
      ]
     },
     "execution_count": 36,
     "metadata": {},
     "output_type": "execute_result"
    }
   ],
   "source": [
    "dados_desgaste = pd.read_csv('Desgaste_funcionarios.csv', sep= ',')[['Attrition','JobSatisfaction']]\n",
    "dados_desgaste.JobSatisfaction = dados_desgaste.JobSatisfaction.astype('category')\n",
    "dados_desgaste.Attrition = dados_desgaste.Attrition.astype('category')\n",
    "dados_desgaste.head()\n"
   ]
  },
  {
   "cell_type": "markdown",
   "id": "7e893d18",
   "metadata": {},
   "source": [
    "# Teste de Hipótese\n",
    "\n",
    "Para nosso teste Qui-quadrado de independência, vamos tstar a hipótese nula é que não existe relação significativa entre 'Desgaste' e 'Satisfação com trabalho.'.\n",
    "\n",
    "A hipótese alternativa é que existe uma relação significativa entre 'Desgaste' e 'Satisfação com trabalho'.\n",
    "\n",
    "### Tabela de Contingência\n",
    "\n",
    "Para calcular a estatística do teste Qui-quadrado, precisaríamos construir uma tabela de contingência.\n",
    "Podemos fazer isso usando a função 'crosstab' do pandas:"
   ]
  },
  {
   "cell_type": "code",
   "execution_count": 37,
   "id": "38c22323",
   "metadata": {},
   "outputs": [
    {
     "data": {
      "text/html": [
       "<div>\n",
       "<style scoped>\n",
       "    .dataframe tbody tr th:only-of-type {\n",
       "        vertical-align: middle;\n",
       "    }\n",
       "\n",
       "    .dataframe tbody tr th {\n",
       "        vertical-align: top;\n",
       "    }\n",
       "\n",
       "    .dataframe thead th {\n",
       "        text-align: right;\n",
       "    }\n",
       "</style>\n",
       "<table border=\"1\" class=\"dataframe\">\n",
       "  <thead>\n",
       "    <tr style=\"text-align: right;\">\n",
       "      <th>Attrition</th>\n",
       "      <th>No</th>\n",
       "      <th>Yes</th>\n",
       "    </tr>\n",
       "    <tr>\n",
       "      <th>JobSatisfaction</th>\n",
       "      <th></th>\n",
       "      <th></th>\n",
       "    </tr>\n",
       "  </thead>\n",
       "  <tbody>\n",
       "    <tr>\n",
       "      <th>1</th>\n",
       "      <td>223</td>\n",
       "      <td>66</td>\n",
       "    </tr>\n",
       "    <tr>\n",
       "      <th>2</th>\n",
       "      <td>234</td>\n",
       "      <td>46</td>\n",
       "    </tr>\n",
       "    <tr>\n",
       "      <th>3</th>\n",
       "      <td>369</td>\n",
       "      <td>73</td>\n",
       "    </tr>\n",
       "    <tr>\n",
       "      <th>4</th>\n",
       "      <td>407</td>\n",
       "      <td>52</td>\n",
       "    </tr>\n",
       "  </tbody>\n",
       "</table>\n",
       "</div>"
      ],
      "text/plain": [
       "Attrition         No  Yes\n",
       "JobSatisfaction          \n",
       "1                223   66\n",
       "2                234   46\n",
       "3                369   73\n",
       "4                407   52"
      ]
     },
     "execution_count": 37,
     "metadata": {},
     "output_type": "execute_result"
    }
   ],
   "source": [
    "Cross = pd.crosstab(dados_desgaste.JobSatisfaction,dados_desgaste.Attrition, margins=False)\n",
    "Cross"
   ]
  },
  {
   "cell_type": "code",
   "execution_count": 39,
   "id": "a6753b7b",
   "metadata": {},
   "outputs": [
    {
     "data": {
      "text/plain": [
       "(17.505077010348,\n",
       " 0.0005563004510387556,\n",
       " 3,\n",
       " array([[242.40612245,  46.59387755],\n",
       "        [234.85714286,  45.14285714],\n",
       "        [370.73877551,  71.26122449],\n",
       "        [384.99795918,  74.00204082]]))"
      ]
     },
     "execution_count": 39,
     "metadata": {},
     "output_type": "execute_result"
    }
   ],
   "source": [
    "st.chi2_contingency(Cross)"
   ]
  }
 ],
 "metadata": {
  "kernelspec": {
   "display_name": "Python 3 (ipykernel)",
   "language": "python",
   "name": "python3"
  },
  "language_info": {
   "codemirror_mode": {
    "name": "ipython",
    "version": 3
   },
   "file_extension": ".py",
   "mimetype": "text/x-python",
   "name": "python",
   "nbconvert_exporter": "python",
   "pygments_lexer": "ipython3",
   "version": "3.9.7"
  }
 },
 "nbformat": 4,
 "nbformat_minor": 5
}
